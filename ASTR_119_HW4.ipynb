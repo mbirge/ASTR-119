{
 "cells": [
  {
   "cell_type": "code",
   "execution_count": null,
   "metadata": {},
   "outputs": [],
   "source": [
    "%matplotlib inline\n",
    "import matplotlib.pyplot as plt\n",
    "import numpy as np"
   ]
  },
  {
   "cell_type": "markdown",
   "metadata": {},
   "source": [
    "## Define function to find the roots of"
   ]
  },
  {
   "cell_type": "code",
   "execution_count": null,
   "metadata": {},
   "outputs": [],
   "source": [
    "def functionForRoots(x):\n",
    "    a = 1.01\n",
    "    b = -3.04\n",
    "    c = 2.07\n",
    "    \n",
    "    return a*x**2 +b*x +c"
   ]
  },
  {
   "cell_type": "markdown",
   "metadata": {},
   "source": [
    "## Validate initial bracket"
   ]
  },
  {
   "cell_type": "code",
   "execution_count": null,
   "metadata": {},
   "outputs": [],
   "source": [
    "def checkInitialValues(f, xMin, xMax, tol):\n",
    "    #check initial guesses\n",
    "    yMin = f(xMin)\n",
    "    yMax = f(xMax)\n",
    "    \n",
    "    #check that xMin and xMax bracket a root\n",
    "    if(yMin*yMax>0.0):\n",
    "        print(\"No zero crossing found in the range \", xMin, yMin, xMax, yMax)\n",
    "        s = \"f(%f)= %f, f(%f) = %f\" %(xMin, yMin, xMax, yMax)\n",
    "        print(s)\n",
    "        return 0\n",
    "    \n",
    "    #if xMin is a root, then return flag ==1, if xMax is a root, return flag ==2\n",
    "    if (np.fabs(yMin)<tol):\n",
    "        return 1\n",
    "    if(np.fabs(yMax)<tol):\n",
    "        return 2\n",
    "    \n",
    "    #if function reaches this point, the bracket is valid\n",
    "    return 3"
   ]
  },
  {
   "cell_type": "markdown",
   "metadata": {},
   "source": [
    "## Main work function"
   ]
  },
  {
   "cell_type": "code",
   "execution_count": null,
   "metadata": {},
   "outputs": [],
   "source": [
    "def bisectionRootFinding(f, xMinStart, xMaxStart, tol):\n",
    "    \n",
    "    #function uses bisection search to find a root of f\n",
    "    xMin = xMinStart\n",
    "    xMax = xMaxStart\n",
    "    xMid = 0.0          #midpoint\n",
    "    \n",
    "    yMin = f(xMin)\n",
    "    yMax = f(xMax)\n",
    "    yMid = 0.0\n",
    "    \n",
    "    imax = 1000     #maximum number of iterations\n",
    "    i = 0.0         #counter\n",
    "    \n",
    "    #check initial value\n",
    "    flag = checkInitialValues(f, xMin, xMax, tol)\n",
    "    \n",
    "    if(flag==0):\n",
    "        print(\"Error in bisectionRootFinding()\")\n",
    "        raise ValueError(\"Initial Values Invalid \", xMin, xMax)\n",
    "    elif(flag==1):\n",
    "        #lucky guess\n",
    "        return xMin\n",
    "    elif(flag==2):\n",
    "        #lucky guess\n",
    "        return xMax\n",
    "    \n",
    "    #if function reaches this point, search is initialized\n",
    "   \n",
    "    #set a flag\n",
    "    flag = 1\n",
    "    while(flag):\n",
    "        #set midpoint\n",
    "        xMid = 0.5*(xMin+xMax)\n",
    "        yMid = f(xMid)\n",
    "        \n",
    "        #check if xMid is a root\n",
    "        if(np.fabs(yMid)<tol):\n",
    "            flag = 0\n",
    "        else:\n",
    "            #xMid is not a root\n",
    "            #if the product of f(xMid) & one of the endpoints is greater than 0, replace the endpoint\n",
    "            if(f(xMin)*f(xMid)>0):\n",
    "                xMin = xMid\n",
    "            else:\n",
    "                xMax = xMid\n",
    "                \n",
    "    #print the iteration\n",
    "    print(xMin, f(xMin), xMax, f(xMax))\n",
    "    \n",
    "    i += 1          #counts iteration\n",
    "    \n",
    "    #if max number of iterations is exceeded, exit\n",
    "    if(i>=imax):\n",
    "        print(\"Exceeded maximum number of iterations: \", i)\n",
    "        s = \"Minimum bracket f(%f) = %f\" %(xMin, f(xMin))\n",
    "        print(s)\n",
    "        s = \"Maximum bracket f(%f) = %f\" %(xMax, f(xMax))\n",
    "        print(s)\n",
    "        raise StopIteration('Stopping iterations after ', i)\n",
    "        #end : )\n",
    "    return xMid\n",
    "                \n"
   ]
  },
  {
   "cell_type": "markdown",
   "metadata": {},
   "source": [
    "## Perform the search"
   ]
  },
  {
   "cell_type": "code",
   "execution_count": null,
   "metadata": {},
   "outputs": [],
   "source": [
    "xMin = 0.0\n",
    "xMax = 1.5\n",
    "tolerance = 1.0e-6\n",
    "\n",
    "#print initial guesses\n",
    "print(xMin, functionForRoots(xMin))\n",
    "print(xMax, functionForRoots(xMax))\n",
    "\n",
    "#call bisection routine\n",
    "xRoot = bisectionRootFinding(functionForRoots,xMin,xMax,tolerance)\n",
    "yRoot = functionForRoots(xRoot)\n",
    "s = \"Root found with y(%f) = %f\" %(xRoot, yRoot)\n",
    "print(s)"
   ]
  },
  {
   "cell_type": "markdown",
   "metadata": {},
   "source": [
    "## Plotting f(x)"
   ]
  },
  {
   "cell_type": "code",
   "execution_count": null,
   "metadata": {},
   "outputs": [],
   "source": [
    "x = np.linspace(0,10, 1000)\n",
    "y = x*0\n",
    "fig = plt.plot(figsize=(6,6))\n",
    "plt.plot(xRoot, label='x root')\n",
    "plt.plot(yRoot, label='y root')\n",
    "plt.plot(x, functionForRoots(x),label='f(x)')\n",
    "plt.plot(x,y, label = 'y = 0')\n",
    "plt.xlabel('x')\n",
    "plt.ylabel('f(x)')\n",
    "plt.xlim(0, 3)\n",
    "plt.ylim(-0.5, 2.1)\n",
    "plt.legend(loc=1, frameon=False)"
   ]
  }
 ],
 "metadata": {
  "kernelspec": {
   "display_name": "Python 3",
   "language": "python",
   "name": "python3"
  },
  "language_info": {
   "codemirror_mode": {
    "name": "ipython",
    "version": 3
   },
   "file_extension": ".py",
   "mimetype": "text/x-python",
   "name": "python",
   "nbconvert_exporter": "python",
   "pygments_lexer": "ipython3",
   "version": "3.6.6+"
  }
 },
 "nbformat": 4,
 "nbformat_minor": 2
}
